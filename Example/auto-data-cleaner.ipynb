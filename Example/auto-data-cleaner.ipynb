{
 "cells": [
  {
   "cell_type": "code",
   "execution_count": 1,
   "metadata": {},
   "outputs": [],
   "source": [
    "import orchest\n",
    "# Retrieve the data from the previous step.\n",
    "data = orchest.get_inputs()\n",
    "train, test = data[\"data\"]"
   ]
  },
  {
   "cell_type": "code",
   "execution_count": 2,
   "metadata": {},
   "outputs": [],
   "source": [
    "use_datacleaner = bool(orchest.get_step_param(\"use_datacleaner\"))\n",
    "use_klib = bool(orchest.get_step_param(\"use_klib\"))"
   ]
  },
  {
   "cell_type": "code",
   "execution_count": 3,
   "metadata": {},
   "outputs": [
    {
     "data": {
      "text/plain": [
       "True"
      ]
     },
     "execution_count": 3,
     "metadata": {},
     "output_type": "execute_result"
    }
   ],
   "source": [
    "use_datacleaner"
   ]
  },
  {
   "cell_type": "code",
   "execution_count": 4,
   "metadata": {},
   "outputs": [
    {
     "data": {
      "text/plain": [
       "False"
      ]
     },
     "execution_count": 4,
     "metadata": {},
     "output_type": "execute_result"
    }
   ],
   "source": [
    "use_klib"
   ]
  },
  {
   "cell_type": "code",
   "execution_count": 5,
   "metadata": {},
   "outputs": [
    {
     "name": "stdout",
     "output_type": "stream",
     "text": [
      "(213605, 31)\n"
     ]
    }
   ],
   "source": [
    "if use_datacleaner == True:\n",
    "    from datacleaner import autoclean\n",
    "    clean_train = autoclean(train)\n",
    "    print(clean_train.shape)\n",
    "    clean_train\n",
    "    clean_test = autoclean(test)\n",
    "    orchest.output((clean_train, clean_test), name=\"clean_data\")\n",
    "elif use_klib == True:\n",
    "    import klib\n",
    "    klib.missingval_plot(train)\n",
    "    clean_train = klib.data_cleaning(train)\n",
    "    clean_test = klib.data_cleaning(test)\n",
    "    orchest.output((clean_train, clean_test), name=\"clean_data\")"
   ]
  },
  {
   "cell_type": "code",
   "execution_count": null,
   "metadata": {},
   "outputs": [],
   "source": []
  }
 ],
 "metadata": {
  "kernelspec": {
   "display_name": "Python 3",
   "language": "python",
   "name": "orchest-kernel-b7372891-4be8-4d27-b457-18398f4f4355"
  },
  "language_info": {
   "codemirror_mode": {
    "name": "ipython",
    "version": 3
   },
   "file_extension": ".py",
   "mimetype": "text/x-python",
   "name": "python",
   "nbconvert_exporter": "python",
   "pygments_lexer": "ipython3",
   "version": "3.7.6"
  }
 },
 "nbformat": 4,
 "nbformat_minor": 4
}
